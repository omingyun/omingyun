{
  "nbformat": 4,
  "nbformat_minor": 0,
  "metadata": {
    "colab": {
      "provenance": [],
      "authorship_tag": "ABX9TyPF4f/NtmzB9w9PAGO0T3Pr",
      "include_colab_link": true
    },
    "kernelspec": {
      "name": "python3",
      "display_name": "Python 3"
    },
    "language_info": {
      "name": "python"
    }
  },
  "cells": [
    {
      "cell_type": "markdown",
      "metadata": {
        "id": "view-in-github",
        "colab_type": "text"
      },
      "source": [
        "<a href=\"https://colab.research.google.com/github/omingyun/omingyun/blob/main/%EC%83%81%EC%83%81%EC%9D%B4%EB%A0%A5%EC%84%9C.ipynb\" target=\"_parent\"><img src=\"https://colab.research.google.com/assets/colab-badge.svg\" alt=\"Open In Colab\"/></a>"
      ]
    },
    {
      "cell_type": "markdown",
      "source": [
        "# 상상이력서\n",
        "### 소개\n",
        "---\n",
        "<img src = \"https://drive.google.com/uc?id=1EQ6ltNd0APgDcZZRayVQeg9oKtse4zfV\" height = 200 width = 200>  \n",
        "* 이름: 오민균  \n",
        "* 군필여부: 사회복부요원으로 복무완료 (2019.01 ~ 2020.10)  \n",
        "* Email: zorro101@naver.com  \n",
        "* GitHub: [github.com/omingyun](github.com/omingyun/omingyun)  \n",
        "       \n",
        "### 학력\n",
        "---\n",
        "* 광운대학교 전기공학과 졸업 예정 (2018.03 ~ 2025.02)  \n",
        "* 서울오산고등학교 졸업 (2015.03 ~ 2018.02)  \n",
        "  \n",
        "### 프로젝트\n",
        "---\n",
        "__전압 전류를 통한 배터리 용량 예측 코드 설계__  \n",
        "> Google colab에서 Linear Regression기법을 이용하여 배터리의 전압과 전류값을 받아 배터리의 용량을 예측하는 코드를 설계함. (2023.04 ~ 2023.05)  \n",
        "[설계코드](https://github.com/omingyun/omingyun/blob/main/7%EC%A1%B0_1%EC%B0%A8%EC%84%A4%EA%B3%84%EA%B3%BC%EC%A0%9C_%EC%BD%94%EB%93%9C.ipynb)\n",
        "\n",
        "__전압 전류 모니터링이 가능한 배터리 충전기 설계__\n",
        "> 시중에서 쉽게 구할 수 있는 소자와 아두이노등을 통해 1.5V 건전지를 충전하면서 현재 전압과 전류를 볼 수 있도록 LCD를 달아준 충전기를 설계함. (2022.11 ~ 2022.12)  \n",
        "[제작과정](https://youtu.be/Q_MqFC8I9Nk)  \n",
        "[시연영상](https://youtu.be/nQGOBXd7n6M)  \n",
        "  \n",
        "__배터리 잔량 표시기 설계__\n",
        "> 일상에서 흔히 사용되는 1.5V 건전지의 배터리량을 쉽게 파악할 수 있는 잔량 표시기를 설계함. 먼저 LED를 이용하여 직관적으로 알 수 있게 하였고, LCD에 정확한 잔량을 표기되도록 설계함. (2022.06 ~ 2022.07)\n",
        "\n",
        "### 자격증(예정)\n",
        "---  \n",
        "* 전기기사\n",
        "* 전기공사기사\n"
      ],
      "metadata": {
        "id": "_GYtRMY-NCb6"
      }
    }
  ]
}